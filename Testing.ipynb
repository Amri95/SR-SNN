{
 "cells": [
  {
   "cell_type": "code",
   "execution_count": 140,
   "metadata": {},
   "outputs": [
    {
     "name": "stdout",
     "output_type": "stream",
     "text": [
      "2000\n"
     ]
    }
   ],
   "source": [
    "# inspired by this paper's code \n",
    "# Unsupervised speech recognition through spike-timing-dependent plasticity in a convolutional spiking neural network\n",
    "\n",
    "\n",
    "from python_speech_features import fbank\n",
    "import numpy as np \n",
    "import scipy.io.wavfile as wav \n",
    "import os \n",
    "import matplotlib.pyplot as plt \n",
    "from sklearn.preprocessing import normalize\n",
    "from sklearn.model_selection import train_test_split\n",
    "import pandas as pd \n",
    "from sklearn.utils import shuffle\n",
    "\n",
    "\n",
    "\n",
    "\n",
    "def read_the_csv():\n",
    "    n_bands = 41\n",
    "    n_frames = 40\n",
    "    overlap = 0.5\n",
    "\n",
    "\n",
    "    datasets = pd.read_csv('data.csv')\n",
    "    print(len(datasets))\n",
    "    \n",
    "    datasets = shuffle(datasets)\n",
    "    n_samples = len(datasets)\n",
    "\n",
    "    feats = np.empty((n_samples, n_bands * n_frames))\n",
    "    labels = np.empty((n_samples,), dtype=np.uint8)\n",
    "    \n",
    "    \n",
    "    for i in range(n_samples):\n",
    "        label = datasets['label'].iloc[i]\n",
    "        file = datasets['filename'].iloc[i]\n",
    "        labels[i] = np.uint8(label)\n",
    "\n",
    "        rate , sig = wav.read(file)\n",
    "        duration = sig.size / rate\n",
    "        winlen = duration /(n_frames * (1 - overlap) + overlap)\n",
    "        winstep = winlen * (1 - overlap)\n",
    "\n",
    "        feat, energy = fbank(sig, rate, winlen, winstep, \n",
    "        nfilt=n_bands, nfft=4096, winfunc=np.hamming)\n",
    "\n",
    "        feat = np.log(feat)\n",
    "        \n",
    "        feats[i] = feat[:n_frames].flatten()\n",
    "    \n",
    "    feats = normalize(feats, norm = 'l2', axis=1)\n",
    "\n",
    "    np.random.seed(42)\n",
    "    np.random.shuffle(feats)\n",
    "    p = np.random.permutation(n_samples)\n",
    "    feats, labels[p], labels[p]\n",
    "\n",
    "    n_train_sample = int(n_samples * 0.7)\n",
    "\n",
    "    train_set = (feats[:n_train_sample], labels[:n_train_sample])\n",
    "    test_set = (feats[n_train_sample:], labels[n_train_sample:])\n",
    "\n",
    "\n",
    "    return train_set, test_set\n",
    "\n",
    "train, test = read_the_csv()"
   ]
  },
  {
   "cell_type": "code",
   "execution_count": 134,
   "metadata": {},
   "outputs": [
    {
     "data": {
      "text/plain": [
       "array([0, 1, 2, 3, 4, 5, 6, 7, 8, 9], dtype=uint8)"
      ]
     },
     "execution_count": 134,
     "metadata": {},
     "output_type": "execute_result"
    }
   ],
   "source": [
    "train_labels = train[1]\n",
    "np.unique(train_labels)"
   ]
  },
  {
   "cell_type": "code",
   "execution_count": 135,
   "metadata": {},
   "outputs": [
    {
     "data": {
      "text/plain": [
       "array([0, 1, 2, 3, 4, 5, 6, 7, 8, 9], dtype=uint8)"
      ]
     },
     "execution_count": 135,
     "metadata": {},
     "output_type": "execute_result"
    }
   ],
   "source": [
    "test_labels = test[1]\n",
    "np.unique(test_labels)"
   ]
  },
  {
   "cell_type": "code",
   "execution_count": 136,
   "metadata": {},
   "outputs": [
    {
     "data": {
      "text/plain": [
       "(1400,)"
      ]
     },
     "execution_count": 136,
     "metadata": {},
     "output_type": "execute_result"
    }
   ],
   "source": [
    "train[1].shape"
   ]
  },
  {
   "cell_type": "code",
   "execution_count": 137,
   "metadata": {},
   "outputs": [
    {
     "data": {
      "text/plain": [
       "(600,)"
      ]
     },
     "execution_count": 137,
     "metadata": {},
     "output_type": "execute_result"
    }
   ],
   "source": [
    "test[1].shape"
   ]
  },
  {
   "cell_type": "code",
   "execution_count": 155,
   "metadata": {},
   "outputs": [
    {
     "data": {
      "text/plain": [
       "array([0.00555705, 0.01524183, 0.02082119, ..., 0.01819982, 0.02260787,\n",
       "       0.02249649])"
      ]
     },
     "execution_count": 155,
     "metadata": {},
     "output_type": "execute_result"
    }
   ],
   "source": [
    "idx = 32\n",
    "number = train[0][idx]\n",
    "number"
   ]
  },
  {
   "cell_type": "code",
   "execution_count": 156,
   "metadata": {},
   "outputs": [
    {
     "data": {
      "text/plain": [
       "0"
      ]
     },
     "execution_count": 156,
     "metadata": {},
     "output_type": "execute_result"
    }
   ],
   "source": [
    "label = train[1][idx]\n",
    "label"
   ]
  },
  {
   "cell_type": "code",
   "execution_count": 154,
   "metadata": {},
   "outputs": [
    {
     "data": {
      "text/plain": [
       "array([0.0166528 , 0.01362038, 0.0195329 , ..., 0.02297818, 0.02476393,\n",
       "       0.02553035])"
      ]
     },
     "execution_count": 154,
     "metadata": {},
     "output_type": "execute_result"
    }
   ],
   "source": [
    "train[0][431]"
   ]
  },
  {
   "cell_type": "code",
   "execution_count": 150,
   "metadata": {},
   "outputs": [],
   "source": [
    "def plot_digit(feature, label):\n",
    "    number = feature\n",
    "    label = label\n",
    "\n",
    "    number = np.reshape(number,[40,41])\n",
    "    number = number.transpose()\n",
    "\n",
    "    plt.imshow(number)\n",
    "    plt.show()\n",
    "    "
   ]
  },
  {
   "cell_type": "code",
   "execution_count": 151,
   "metadata": {},
   "outputs": [
    {
     "data": {
      "image/png": "[encoded data removed]",
      "text/plain": [
       "<Figure size 432x288 with 1 Axes>"
      ]
     },
     "metadata": {
      "needs_background": "light"
     },
     "output_type": "display_data"
    }
   ],
   "source": [
    "plot_digit(number, label)"
   ]
  },
  {
   "cell_type": "code",
   "execution_count": null,
   "metadata": {},
   "outputs": [],
   "source": []
  }
 ],
 "metadata": {
  "kernelspec": {
   "display_name": "Python 3",
   "language": "python",
   "name": "python3"
  },
  "language_info": {
   "codemirror_mode": {
    "name": "ipython",
    "version": 3
   },
   "file_extension": ".py",
   "mimetype": "text/x-python",
   "name": "python",
   "nbconvert_exporter": "python",
   "pygments_lexer": "ipython3",
   "version": "3.6.7"
  }
 },
 "nbformat": 4,
 "nbformat_minor": 2
}
